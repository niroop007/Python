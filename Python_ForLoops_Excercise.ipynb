{
  "nbformat": 4,
  "nbformat_minor": 0,
  "metadata": {
    "colab": {
      "name": "ForLoopsExcercise.ipynb",
      "provenance": [],
      "collapsed_sections": [],
      "authorship_tag": "ABX9TyNEFxmYNlEmYJMQMPEY7vXe",
      "include_colab_link": true
    },
    "kernelspec": {
      "name": "python3",
      "display_name": "Python 3"
    }
  },
  "cells": [
    {
      "cell_type": "markdown",
      "metadata": {
        "id": "view-in-github",
        "colab_type": "text"
      },
      "source": [
        "<a href=\"https://colab.research.google.com/github/niroop007/Python/blob/master/Python_ForLoops_Excercise.ipynb\" target=\"_parent\"><img src=\"https://colab.research.google.com/assets/colab-badge.svg\" alt=\"Open In Colab\"/></a>"
      ]
    },
    {
      "cell_type": "code",
      "metadata": {
        "id": "_z5Jmwux8FG7"
      },
      "source": [
        "my_list=[1,2,3,4,5,6]\n",
        "for a in my_list:\n",
        "  print(a)"
      ],
      "execution_count": null,
      "outputs": []
    },
    {
      "cell_type": "code",
      "metadata": {
        "id": "dSiqUsiB8THo",
        "outputId": "0f6021ae-ba37-419a-8f01-5c37162fd2c6",
        "colab": {
          "base_uri": "https://localhost:8080/"
        }
      },
      "source": [
        "my_list1=[1,2,3,4,5,6,7,8,9,10]\n",
        "for a in my_list1:\n",
        "  print(a)\n",
        "  print(\"Hello\")"
      ],
      "execution_count": 3,
      "outputs": [
        {
          "output_type": "stream",
          "text": [
            "1\n",
            "Hello\n",
            "2\n",
            "Hello\n",
            "3\n",
            "Hello\n",
            "4\n",
            "Hello\n",
            "5\n",
            "Hello\n",
            "6\n",
            "Hello\n",
            "7\n",
            "Hello\n",
            "8\n",
            "Hello\n",
            "9\n",
            "Hello\n",
            "10\n",
            "Hello\n"
          ],
          "name": "stdout"
        }
      ]
    },
    {
      "cell_type": "code",
      "metadata": {
        "id": "xeyeh_zj8nya",
        "outputId": "e527a32f-b6fb-4f77-a247-d244e47cf082",
        "colab": {
          "base_uri": "https://localhost:8080/"
        }
      },
      "source": [
        "for num in my_list1:\n",
        "  if num%2==0:\n",
        "    print(f\"Even nums are {num}\")\n",
        "  else:\n",
        "    print(f\"odd nums are {num}\")"
      ],
      "execution_count": 9,
      "outputs": [
        {
          "output_type": "stream",
          "text": [
            "odd nums are 1\n",
            "Even nums are 2\n",
            "odd nums are 3\n",
            "Even nums are 4\n",
            "odd nums are 5\n",
            "Even nums are 6\n",
            "odd nums are 7\n",
            "Even nums are 8\n",
            "odd nums are 9\n",
            "Even nums are 10\n"
          ],
          "name": "stdout"
        }
      ]
    },
    {
      "cell_type": "code",
      "metadata": {
        "id": "ALVnGC4I8_gq",
        "outputId": "0dbfb5b1-d889-4542-9225-9213c6e76c1f",
        "colab": {
          "base_uri": "https://localhost:8080/"
        }
      },
      "source": [
        "list_sum=0\n",
        "for s in my_list1:\n",
        "  list_sum=list_sum+s\n",
        "print(list_sum)"
      ],
      "execution_count": 14,
      "outputs": [
        {
          "output_type": "stream",
          "text": [
            "55\n"
          ],
          "name": "stdout"
        }
      ]
    },
    {
      "cell_type": "code",
      "metadata": {
        "id": "y-bRP3nV9swi",
        "outputId": "246fb233-1d06-418b-f17c-0b99f7b6e6a1",
        "colab": {
          "base_uri": "https://localhost:8080/"
        }
      },
      "source": [
        "for _ in \"Hello World\":\n",
        "  print(\"Cool\")\n"
      ],
      "execution_count": 15,
      "outputs": [
        {
          "output_type": "stream",
          "text": [
            "Cool\n",
            "Cool\n",
            "Cool\n",
            "Cool\n",
            "Cool\n",
            "Cool\n",
            "Cool\n",
            "Cool\n",
            "Cool\n",
            "Cool\n",
            "Cool\n"
          ],
          "name": "stdout"
        }
      ]
    },
    {
      "cell_type": "code",
      "metadata": {
        "id": "uqLQ_5Yk-QpJ",
        "outputId": "d7941ef5-50d0-4a09-c74d-84eaef68a8b3",
        "colab": {
          "base_uri": "https://localhost:8080/"
        }
      },
      "source": [
        "tup_pairs_list=[(1,2),(3,4,5),('hello','world','python')]\n",
        "print(len(tup_pairs_list))\n",
        "for i in tup_pairs_list:\n",
        "  print(i)"
      ],
      "execution_count": 18,
      "outputs": [
        {
          "output_type": "stream",
          "text": [
            "3\n",
            "(1, 2)\n",
            "(3, 4, 5)\n",
            "('hello', 'world', 'python')\n"
          ],
          "name": "stdout"
        }
      ]
    },
    {
      "cell_type": "code",
      "metadata": {
        "id": "tkiOlzTA-yRJ",
        "outputId": "2b87e380-b542-47c3-a56c-76da86640e5c",
        "colab": {
          "base_uri": "https://localhost:8080/"
        }
      },
      "source": [
        "tup_pairs_list=[(1,2,8),(3,4,5),('hello','world','python')]\n",
        "print(len(tup_pairs_list))\n",
        "for (a,b,c) in tup_pairs_list:\n",
        "  print(a)\n",
        "  print(b)\n",
        "  print(c)"
      ],
      "execution_count": 21,
      "outputs": [
        {
          "output_type": "stream",
          "text": [
            "3\n",
            "1\n",
            "2\n",
            "8\n",
            "3\n",
            "4\n",
            "5\n",
            "hello\n",
            "world\n",
            "python\n"
          ],
          "name": "stdout"
        }
      ]
    },
    {
      "cell_type": "code",
      "metadata": {
        "id": "93MrXioy_MYr",
        "outputId": "29b00513-7712-4612-ddc7-5430169e6492",
        "colab": {
          "base_uri": "https://localhost:8080/"
        }
      },
      "source": [
        "dic={'k1':123,'k2':4556,'k3':789}\n",
        "for a,b in dic.items():\n",
        "  print(a)\n",
        "  print(b)"
      ],
      "execution_count": 24,
      "outputs": [
        {
          "output_type": "stream",
          "text": [
            "k1\n",
            "123\n",
            "k2\n",
            "4556\n",
            "k3\n",
            "789\n"
          ],
          "name": "stdout"
        }
      ]
    },
    {
      "cell_type": "code",
      "metadata": {
        "id": "QXZPUAKi_uLC"
      },
      "source": [
        ""
      ],
      "execution_count": null,
      "outputs": []
    }
  ]
}