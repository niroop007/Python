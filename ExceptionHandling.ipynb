{
  "nbformat": 4,
  "nbformat_minor": 0,
  "metadata": {
    "colab": {
      "name": "ExceptionHandling.ipynb",
      "provenance": [],
      "collapsed_sections": [],
      "authorship_tag": "ABX9TyOBzDdbFdj1dRffEElWR+B8",
      "include_colab_link": true
    },
    "kernelspec": {
      "name": "python3",
      "display_name": "Python 3"
    }
  },
  "cells": [
    {
      "cell_type": "markdown",
      "metadata": {
        "id": "view-in-github",
        "colab_type": "text"
      },
      "source": [
        "<a href=\"https://colab.research.google.com/github/niroop007/Python/blob/master/ExceptionHandling.ipynb\" target=\"_parent\"><img src=\"https://colab.research.google.com/assets/colab-badge.svg\" alt=\"Open In Colab\"/></a>"
      ]
    },
    {
      "cell_type": "code",
      "metadata": {
        "id": "pq8sxphviQou"
      },
      "source": [
        "def my_func():\n",
        "  try:\n",
        "    add = 10 + '10'\n",
        "    print(\"In try block\")\n",
        "  except:\n",
        "    print(\"In exception block\")\n",
        "  finally:\n",
        "    print(\"In finally block\")"
      ],
      "execution_count": null,
      "outputs": []
    },
    {
      "cell_type": "code",
      "metadata": {
        "colab": {
          "base_uri": "https://localhost:8080/"
        },
        "id": "J7hRl4xB2xgO",
        "outputId": "741d845a-039a-441a-952d-2c2808bba74b"
      },
      "source": [
        "my_func()"
      ],
      "execution_count": null,
      "outputs": [
        {
          "output_type": "stream",
          "text": [
            "In exception block\n",
            "In finally block\n"
          ],
          "name": "stdout"
        }
      ]
    },
    {
      "cell_type": "code",
      "metadata": {
        "colab": {
          "base_uri": "https://localhost:8080/"
        },
        "id": "8eAhMtJn2-8_",
        "outputId": "7501d320-5d87-469c-91a7-c47f6b7df1cc"
      },
      "source": [
        "try:\n",
        "  print(\"In try block\")\n",
        "  f=open('file1.txt','r')\n",
        "  f.write(\"add this\")\n",
        "except OSError:\n",
        "  print(\"Some thing is wrong with file permissions\")\n",
        "finally:\n",
        "  print(\"I'll always run finally block\")"
      ],
      "execution_count": null,
      "outputs": [
        {
          "output_type": "stream",
          "text": [
            "In try block\n",
            "Some thing is wrong with file permissions\n",
            "I'll always run finally block\n"
          ],
          "name": "stdout"
        }
      ]
    },
    {
      "cell_type": "code",
      "metadata": {
        "colab": {
          "base_uri": "https://localhost:8080/"
        },
        "id": "p1ZUpfyk3r1A",
        "outputId": "354f3f99-f449-4c73-ddaf-c8c0aa4ba196"
      },
      "source": [
        "#Checking the right value as input\n",
        "while True:\n",
        "  try:\n",
        "    get_input=int(input(\"Enter some value: \"))\n",
        "  except:\n",
        "    print(\"Please enter correct value\")\n",
        "  else:\n",
        "    print(\"Thanks for entering right value\")\n",
        "    break\n",
        "  finally:\n",
        "    print(\"Anyways this block is executed\")"
      ],
      "execution_count": null,
      "outputs": [
        {
          "output_type": "stream",
          "text": [
            "Enter some value: asdasd\n",
            "Please enter correct value\n",
            "Anyways this block is executed\n",
            "Enter some value: 20\n",
            "Thanks for entering right value\n",
            "Anyways this block is executed\n"
          ],
          "name": "stdout"
        }
      ]
    },
    {
      "cell_type": "code",
      "metadata": {
        "id": "9DXIv6-BOh55"
      },
      "source": [
        ""
      ],
      "execution_count": null,
      "outputs": []
    }
  ]
}