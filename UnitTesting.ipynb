{
  "nbformat": 4,
  "nbformat_minor": 0,
  "metadata": {
    "colab": {
      "name": "UnitTesting.ipynb",
      "provenance": [],
      "collapsed_sections": [],
      "authorship_tag": "ABX9TyM7shXicqItk3hAP9tXyr4x",
      "include_colab_link": true
    },
    "kernelspec": {
      "name": "python3",
      "display_name": "Python 3"
    }
  },
  "cells": [
    {
      "cell_type": "markdown",
      "metadata": {
        "id": "view-in-github",
        "colab_type": "text"
      },
      "source": [
        "<a href=\"https://colab.research.google.com/github/niroop007/Python/blob/master/UnitTesting.ipynb\" target=\"_parent\"><img src=\"https://colab.research.google.com/assets/colab-badge.svg\" alt=\"Open In Colab\"/></a>"
      ]
    },
    {
      "cell_type": "code",
      "metadata": {
        "id": "0R6j13EEahTW"
      },
      "source": [
        "import Prog1\n",
        "import unittest\n",
        "#unit testing a func in another program\n",
        "class Sample_Test(unittest.TestCase()):\n",
        "    def test_cap_func(self):\n",
        "        text='hello world'\n",
        "        result=Prog1.text_cap(text)\n",
        "        self.assertEqual(result,'Hello World')\n",
        "        \n",
        "    def test_multi_words(self):\n",
        "      text=\"No way this is a big word\"\n",
        "      result=Prog1.text_cap(text)\n",
        "      self.assertEqual(result,'No way this is a big word')\n",
        "      \n",
        "if __name__=='__main__':\n",
        "    unittest.main()"
      ],
      "execution_count": null,
      "outputs": []
    }
  ]
}