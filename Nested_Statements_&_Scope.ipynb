{
  "nbformat": 4,
  "nbformat_minor": 0,
  "metadata": {
    "colab": {
      "name": "Nested Statements & Scope.ipynb",
      "provenance": [],
      "collapsed_sections": [],
      "authorship_tag": "ABX9TyO8KvbS0uKlJzXk7XQX+sNO",
      "include_colab_link": true
    },
    "kernelspec": {
      "name": "python3",
      "display_name": "Python 3"
    }
  },
  "cells": [
    {
      "cell_type": "markdown",
      "metadata": {
        "id": "view-in-github",
        "colab_type": "text"
      },
      "source": [
        "<a href=\"https://colab.research.google.com/github/niroop007/Python/blob/master/Nested_Statements_%26_Scope.ipynb\" target=\"_parent\"><img src=\"https://colab.research.google.com/assets/colab-badge.svg\" alt=\"Open In Colab\"/></a>"
      ]
    },
    {
      "cell_type": "code",
      "metadata": {
        "id": "Jzj0iYCXItbB"
      },
      "source": [
        "x=50\n",
        "def printer():\n",
        "  \n",
        "\n",
        "  global x\n",
        "  \n",
        "  print(x)\n",
        "  x=20\n",
        "  print(x)\n"
      ],
      "execution_count": 11,
      "outputs": []
    },
    {
      "cell_type": "code",
      "metadata": {
        "colab": {
          "base_uri": "https://localhost:8080/"
        },
        "id": "-LWXN0zhI2oi",
        "outputId": "0eee038c-4ef6-4c55-8c27-341cc6974197"
      },
      "source": [
        "printer()"
      ],
      "execution_count": 12,
      "outputs": [
        {
          "output_type": "stream",
          "text": [
            "50\n",
            "20\n"
          ],
          "name": "stdout"
        }
      ]
    },
    {
      "cell_type": "code",
      "metadata": {
        "id": "0SRLGTlLJJ2o"
      },
      "source": [
        "s='Hello Global'\n",
        "def xprint():\n",
        "  #s='Hello Local'\n",
        "  print(s)\n",
        "  def newprint():\n",
        "    print(s)\n",
        "  newprint()\n",
        "  "
      ],
      "execution_count": 20,
      "outputs": []
    },
    {
      "cell_type": "code",
      "metadata": {
        "colab": {
          "base_uri": "https://localhost:8080/"
        },
        "id": "OIvfyrOyJ2LY",
        "outputId": "a0582239-c2d0-4ae0-9d60-ccad209e76b9"
      },
      "source": [
        "xprint()"
      ],
      "execution_count": 21,
      "outputs": [
        {
          "output_type": "stream",
          "text": [
            "Hello Global\n",
            "Hello Global\n"
          ],
          "name": "stdout"
        }
      ]
    },
    {
      "cell_type": "code",
      "metadata": {
        "colab": {
          "base_uri": "https://localhost:8080/"
        },
        "id": "OBZWHphyJ40A",
        "outputId": "f22a68e3-305e-40b4-f6e8-9f2c405dffa6"
      },
      "source": [
        "xprint()"
      ],
      "execution_count": 15,
      "outputs": [
        {
          "output_type": "stream",
          "text": [
            "Hello Local\n"
          ],
          "name": "stdout"
        }
      ]
    },
    {
      "cell_type": "code",
      "metadata": {
        "colab": {
          "base_uri": "https://localhost:8080/",
          "height": 166
        },
        "id": "wiCqpF3PKCKn",
        "outputId": "53573bf6-9422-4f3a-d949-fc18c0c5cf75"
      },
      "source": [
        "newprint()"
      ],
      "execution_count": 16,
      "outputs": [
        {
          "output_type": "error",
          "ename": "NameError",
          "evalue": "ignored",
          "traceback": [
            "\u001b[0;31m---------------------------------------------------------------------------\u001b[0m",
            "\u001b[0;31mNameError\u001b[0m                                 Traceback (most recent call last)",
            "\u001b[0;32m<ipython-input-16-13c912f30c92>\u001b[0m in \u001b[0;36m<module>\u001b[0;34m()\u001b[0m\n\u001b[0;32m----> 1\u001b[0;31m \u001b[0mnewprint\u001b[0m\u001b[0;34m(\u001b[0m\u001b[0;34m)\u001b[0m\u001b[0;34m\u001b[0m\u001b[0;34m\u001b[0m\u001b[0m\n\u001b[0m",
            "\u001b[0;31mNameError\u001b[0m: name 'newprint' is not defined"
          ]
        }
      ]
    },
    {
      "cell_type": "code",
      "metadata": {
        "colab": {
          "base_uri": "https://localhost:8080/"
        },
        "id": "13NgrZt4KFkX",
        "outputId": "0c6d315d-9304-46b1-bba2-5b10a2007ff6"
      },
      "source": [
        "u=0\n",
        "l=0\n",
        "for i in s:\n",
        "  print(i)\n",
        "  if i.isupper():\n",
        "    u=u+1\n",
        "  elif i.islower():\n",
        "    l=l+1\n",
        "print(f'No of upper case letters : {u}',f'\\nno of lower case letters : {l}')\n",
        "  "
      ],
      "execution_count": 47,
      "outputs": [
        {
          "output_type": "stream",
          "text": [
            "H\n",
            "e\n",
            "l\n",
            "l\n",
            "o\n",
            " \n",
            "G\n",
            "l\n",
            "o\n",
            "b\n",
            "a\n",
            "l\n",
            "No of upper case letters : 2 \n",
            "no of lower case letters : 9\n"
          ],
          "name": "stdout"
        }
      ]
    },
    {
      "cell_type": "code",
      "metadata": {
        "colab": {
          "base_uri": "https://localhost:8080/"
        },
        "id": "DYVJNE2iLEff",
        "outputId": "318c0c9d-ad9c-4aaf-b201-b8cf3320ec8e"
      },
      "source": [
        "k"
      ],
      "execution_count": 36,
      "outputs": [
        {
          "output_type": "execute_result",
          "data": {
            "text/plain": [
              "0"
            ]
          },
          "metadata": {
            "tags": []
          },
          "execution_count": 36
        }
      ]
    },
    {
      "cell_type": "code",
      "metadata": {
        "id": "DFfDopZKLjtX"
      },
      "source": [
        ""
      ],
      "execution_count": null,
      "outputs": []
    }
  ]
}